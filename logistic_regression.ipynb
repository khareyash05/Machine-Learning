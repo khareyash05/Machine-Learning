{
  "nbformat": 4,
  "nbformat_minor": 0,
  "metadata": {
    "colab": {
      "name": "logistic_regression.ipynb",
      "provenance": [],
      "collapsed_sections": [],
      "machine_shape": "hm",
      "include_colab_link": true
    },
    "kernelspec": {
      "name": "python3",
      "display_name": "Python 3"
    }
  },
  "cells": [
    {
      "cell_type": "markdown",
      "metadata": {
        "id": "view-in-github",
        "colab_type": "text"
      },
      "source": [
        "<a href=\"https://colab.research.google.com/github/khareyash05/Machine-Learning/blob/main/logistic_regression.ipynb\" target=\"_parent\"><img src=\"https://colab.research.google.com/assets/colab-badge.svg\" alt=\"Open In Colab\"/></a>"
      ]
    },
    {
      "cell_type": "markdown",
      "metadata": {
        "id": "0MRC0e0KhQ0S"
      },
      "source": [
        "# Logistic Regression"
      ]
    },
    {
      "cell_type": "markdown",
      "metadata": {
        "id": "LWd1UlMnhT2s"
      },
      "source": [
        "## Importing the libraries"
      ]
    },
    {
      "cell_type": "code",
      "source": [
        "import numpy as np\n",
        "import pandas as pd\n",
        "import matplotlib.pyplot as plt"
      ],
      "metadata": {
        "id": "KObUJRd9Ttjj"
      },
      "execution_count": 35,
      "outputs": []
    },
    {
      "cell_type": "markdown",
      "metadata": {
        "id": "K1VMqkGvhc3-"
      },
      "source": [
        "## Importing the dataset"
      ]
    },
    {
      "cell_type": "code",
      "source": [
        "dataset = pd.read_csv(\"Social_Network_Ads.csv\")\n",
        "X = dataset.iloc[:,:-1].values\n",
        "y = dataset.iloc[:,-1].values"
      ],
      "metadata": {
        "id": "r536_xaUT6my"
      },
      "execution_count": 36,
      "outputs": []
    },
    {
      "cell_type": "markdown",
      "metadata": {
        "id": "YvxIPVyMhmKp"
      },
      "source": [
        "## Splitting the dataset into the Training set and Test set"
      ]
    },
    {
      "cell_type": "code",
      "source": [
        "from sklearn.model_selection import train_test_split\n",
        "X_train, X_test, y_train, y_test = train_test_split(X, y, test_size = 0.2, random_state = 0)"
      ],
      "metadata": {
        "id": "ES3HQ1rLUatC"
      },
      "execution_count": 37,
      "outputs": []
    },
    {
      "cell_type": "markdown",
      "metadata": {
        "id": "kW3c7UYih0hT"
      },
      "source": [
        "## Feature Scaling"
      ]
    },
    {
      "cell_type": "code",
      "source": [
        "from sklearn.preprocessing import StandardScaler\n",
        "sc = StandardScaler()\n",
        "X_train = sc.fit_transform(X_train)\n",
        "X_test = sc.fit_transform(X_test)"
      ],
      "metadata": {
        "id": "Ro_rWFbcUrbH"
      },
      "execution_count": 38,
      "outputs": []
    },
    {
      "cell_type": "code",
      "source": [
        "print(X_train)"
      ],
      "metadata": {
        "colab": {
          "base_uri": "https://localhost:8080/"
        },
        "id": "aQ-15bNBUsin",
        "outputId": "67dbae50-4350-41c6-95ea-136ad2742210"
      },
      "execution_count": 39,
      "outputs": [
        {
          "output_type": "stream",
          "name": "stdout",
          "text": [
            "[[ 1.92295008e+00  2.14601566e+00]\n",
            " [ 2.02016082e+00  3.78719297e-01]\n",
            " [-1.38221530e+00 -4.32498705e-01]\n",
            " [-1.18779381e+00 -1.01194013e+00]\n",
            " [ 1.92295008e+00 -9.25023920e-01]\n",
            " [ 3.67578135e-01  2.91803083e-01]\n",
            " [ 1.73156642e-01  1.46942725e-01]\n",
            " [ 2.02016082e+00  1.74040666e+00]\n",
            " [ 7.56421121e-01 -8.38107706e-01]\n",
            " [ 2.70367388e-01 -2.87638347e-01]\n",
            " [ 3.67578135e-01 -1.71750061e-01]\n",
            " [-1.18475597e-01  2.20395980e+00]\n",
            " [-1.47942605e+00 -6.35303205e-01]\n",
            " [-1.28500455e+00 -1.06988428e+00]\n",
            " [-1.38221530e+00  4.07691369e-01]\n",
            " [-1.09058306e+00  7.55356227e-01]\n",
            " [-1.47942605e+00 -2.00722133e-01]\n",
            " [ 9.50842613e-01 -1.06988428e+00]\n",
            " [ 9.50842613e-01  5.81523798e-01]\n",
            " [ 3.67578135e-01  9.87132798e-01]\n",
            " [ 5.61999628e-01 -8.96051849e-01]\n",
            " [-6.04529329e-01  1.45068594e+00]\n",
            " [-2.12648508e-02 -5.77359062e-01]\n",
            " [-6.04529329e-01  1.88526701e+00]\n",
            " [ 1.33968560e+00 -1.41754914e+00]\n",
            " [ 1.43689635e+00  9.87132798e-01]\n",
            " [ 7.59458956e-02 -8.09135634e-01]\n",
            " [-2.12648508e-02 -2.58666276e-01]\n",
            " [-2.15686344e-01 -5.77359062e-01]\n",
            " [-2.15686344e-01 -2.00722133e-01]\n",
            " [-3.12897090e-01 -1.30166085e+00]\n",
            " [-3.12897090e-01 -5.77359062e-01]\n",
            " [ 3.67578135e-01  8.89985821e-02]\n",
            " [ 8.53631867e-01 -6.06331134e-01]\n",
            " [ 2.02016082e+00 -1.18577256e+00]\n",
            " [ 1.04805336e+00 -1.42777990e-01]\n",
            " [ 6.59210374e-01  1.76937873e+00]\n",
            " [-7.01740076e-01  5.52551726e-01]\n",
            " [ 7.56421121e-01  3.49747226e-01]\n",
            " [ 8.53631867e-01 -5.48386991e-01]\n",
            " [-1.18779381e+00 -1.59138156e+00]\n",
            " [ 2.11737157e+00  9.29188655e-01]\n",
            " [-2.12648508e-02  1.21890937e+00]\n",
            " [ 1.73156642e-01  1.07404901e+00]\n",
            " [ 3.67578135e-01 -4.90442848e-01]\n",
            " [-3.12897090e-01 -3.16610419e-01]\n",
            " [ 9.50842613e-01 -8.38107706e-01]\n",
            " [ 9.50842613e-01  1.85629494e+00]\n",
            " [-2.12648508e-02  1.24788144e+00]\n",
            " [-8.96161568e-01  2.26190394e+00]\n",
            " [-1.18779381e+00 -1.59138156e+00]\n",
            " [ 2.11737157e+00 -8.09135634e-01]\n",
            " [-1.38221530e+00 -1.47549328e+00]\n",
            " [ 3.67578135e-01  2.29087602e+00]\n",
            " [ 7.56421121e-01  7.55356227e-01]\n",
            " [-9.93372315e-01 -3.16610419e-01]\n",
            " [ 7.59458956e-02  7.55356227e-01]\n",
            " [-9.93372315e-01  5.52551726e-01]\n",
            " [ 2.70367388e-01  6.00265106e-02]\n",
            " [ 6.59210374e-01 -1.27268878e+00]\n",
            " [-5.07318583e-01 -2.68897039e-02]\n",
            " [-1.77105829e+00  3.49747226e-01]\n",
            " [-7.01740076e-01  1.17970654e-01]\n",
            " [ 3.67578135e-01  2.91803083e-01]\n",
            " [-3.12897090e-01  6.00265106e-02]\n",
            " [-5.07318583e-01  2.29087602e+00]\n",
            " [ 1.73156642e-01  3.10544391e-02]\n",
            " [ 1.24247485e+00  2.20395980e+00]\n",
            " [ 7.56421121e-01  2.62831011e-01]\n",
            " [-3.12897090e-01  1.46942725e-01]\n",
            " [-2.12648508e-02 -5.48386991e-01]\n",
            " [-2.15686344e-01  1.46942725e-01]\n",
            " [-1.18475597e-01  2.33858940e-01]\n",
            " [-2.12648508e-02 -2.58666276e-01]\n",
            " [ 2.11737157e+00  1.10302108e+00]\n",
            " [-1.77105829e+00  3.49747226e-01]\n",
            " [ 1.82573933e+00  1.17970654e-01]\n",
            " [ 3.67578135e-01 -1.42777990e-01]\n",
            " [-1.18779381e+00  2.91803083e-01]\n",
            " [ 7.56421121e-01  1.36376973e+00]\n",
            " [-3.12897090e-01 -2.58666276e-01]\n",
            " [-1.67384754e+00 -5.58617754e-02]\n",
            " [-9.93372315e-01 -7.51191491e-01]\n",
            " [ 2.70367388e-01  4.94607583e-01]\n",
            " [-1.18475597e-01 -1.06988428e+00]\n",
            " [-1.09058306e+00  5.81523798e-01]\n",
            " [ 7.59458956e-02 -8.09135634e-01]\n",
            " [-9.93372315e-01  1.53760216e+00]\n",
            " [-7.01740076e-01  1.39274180e+00]\n",
            " [-1.28500455e+00  4.94607583e-01]\n",
            " [-3.12897090e-01  3.10544391e-02]\n",
            " [-1.18475597e-01  2.08236764e-03]\n",
            " [-3.12897090e-01 -8.96051849e-01]\n",
            " [ 8.53631867e-01 -1.35960499e+00]\n",
            " [-3.12897090e-01  2.23293187e+00]\n",
            " [ 9.50842613e-01  1.97218323e+00]\n",
            " [-1.18779381e+00  4.65635512e-01]\n",
            " [-1.28500455e+00  2.62831011e-01]\n",
            " [ 1.33968560e+00  1.97218323e+00]\n",
            " [ 1.24247485e+00 -1.35960499e+00]\n",
            " [-3.12897090e-01 -2.87638347e-01]\n",
            " [-5.07318583e-01  1.24788144e+00]\n",
            " [-7.98950822e-01  1.07404901e+00]\n",
            " [ 9.50842613e-01 -1.06988428e+00]\n",
            " [ 2.70367388e-01  2.91803083e-01]\n",
            " [ 9.50842613e-01  7.55356227e-01]\n",
            " [-7.01740076e-01 -1.50446535e+00]\n",
            " [-7.01740076e-01  3.10544391e-02]\n",
            " [ 4.64788881e-01  1.71143459e+00]\n",
            " [ 2.02016082e+00  1.75914797e-01]\n",
            " [-1.96547978e+00 -7.51191491e-01]\n",
            " [-2.15686344e-01  1.39274180e+00]\n",
            " [ 3.67578135e-01  5.81523798e-01]\n",
            " [ 8.53631867e-01 -1.15680049e+00]\n",
            " [-1.18779381e+00 -7.80163563e-01]\n",
            " [ 1.73156642e-01  2.33858940e-01]\n",
            " [ 7.56421121e-01 -3.16610419e-01]\n",
            " [ 2.02016082e+00 -8.09135634e-01]\n",
            " [ 7.56421121e-01  1.17970654e-01]\n",
            " [-3.12897090e-01  6.10495869e-01]\n",
            " [-9.93372315e-01 -3.16610419e-01]\n",
            " [ 1.73156642e-01 -3.74554562e-01]\n",
            " [ 2.02016082e+00  2.11704359e+00]\n",
            " [ 1.82573933e+00 -1.27268878e+00]\n",
            " [ 1.33968560e+00 -9.25023920e-01]\n",
            " [ 8.53631867e-01  1.24788144e+00]\n",
            " [ 1.43689635e+00  2.11704359e+00]\n",
            " [-3.12897090e-01 -1.24371671e+00]\n",
            " [ 1.92295008e+00  9.00216584e-01]\n",
            " [ 6.59210374e-01 -7.22219420e-01]\n",
            " [-1.47942605e+00  3.49747226e-01]\n",
            " [ 7.56421121e-01 -1.35960499e+00]\n",
            " [ 3.67578135e-01 -1.42777990e-01]\n",
            " [-9.93372315e-01  4.07691369e-01]\n",
            " [-2.12648508e-02 -3.16610419e-01]\n",
            " [-1.18779381e+00  4.07691369e-01]\n",
            " [-8.96161568e-01 -1.21474464e+00]\n",
            " [-1.18475597e-01  3.10544391e-02]\n",
            " [-1.57663679e+00 -4.32498705e-01]\n",
            " [ 9.50842613e-01 -1.01194013e+00]\n",
            " [ 1.04805336e+00 -1.21474464e+00]\n",
            " [-2.12648508e-02 -1.42777990e-01]\n",
            " [-1.09058306e+00 -1.53343742e+00]\n",
            " [ 7.56421121e-01 -1.21474464e+00]\n",
            " [ 9.50842613e-01  2.05909944e+00]\n",
            " [-1.18779381e+00 -1.53343742e+00]\n",
            " [-3.12897090e-01  7.84328298e-01]\n",
            " [ 7.59458956e-02 -3.16610419e-01]\n",
            " [-1.38221530e+00 -1.24371671e+00]\n",
            " [-6.04529329e-01 -1.50446535e+00]\n",
            " [ 7.56421121e-01  5.23579655e-01]\n",
            " [-3.12897090e-01 -3.45582490e-01]\n",
            " [ 1.72852858e+00 -2.87638347e-01]\n",
            " [ 8.53631867e-01 -1.04091221e+00]\n",
            " [ 1.73156642e-01  6.00265106e-02]\n",
            " [-6.04529329e-01  8.71244512e-01]\n",
            " [-1.86826903e+00 -1.41754914e+00]\n",
            " [-1.28500455e+00  5.81523798e-01]\n",
            " [-3.12897090e-01  5.23579655e-01]\n",
            " [-9.93372315e-01 -1.09885635e+00]\n",
            " [ 1.14526411e+00 -1.44652121e+00]\n",
            " [ 1.73156642e-01 -3.16610419e-01]\n",
            " [ 1.14526411e+00 -7.51191491e-01]\n",
            " [-3.12897090e-01  6.00265106e-02]\n",
            " [ 1.73156642e-01  2.08807152e+00]\n",
            " [ 7.56421121e-01 -1.09885635e+00]\n",
            " [ 7.59458956e-02  3.10544391e-02]\n",
            " [-1.77105829e+00  1.17970654e-01]\n",
            " [-8.96161568e-01  1.46942725e-01]\n",
            " [-7.01740076e-01  1.75914797e-01]\n",
            " [ 8.53631867e-01 -1.30166085e+00]\n",
            " [ 1.73156642e-01 -2.58666276e-01]\n",
            " [-4.10107836e-01  1.21890937e+00]\n",
            " [-2.12648508e-02  2.91803083e-01]\n",
            " [ 3.67578135e-01  1.46942725e-01]\n",
            " [ 8.53631867e-01 -6.64275277e-01]\n",
            " [ 7.59458956e-02  1.46942725e-01]\n",
            " [-1.86826903e+00 -1.30166085e+00]\n",
            " [-1.18475597e-01  2.91803083e-01]\n",
            " [-2.15686344e-01 -2.87638347e-01]\n",
            " [ 2.70367388e-01 -5.19414919e-01]\n",
            " [-2.15686344e-01  1.59554630e+00]\n",
            " [ 9.50842613e-01 -1.18577256e+00]\n",
            " [-2.15686344e-01  1.62451837e+00]\n",
            " [ 1.24247485e+00  1.85629494e+00]\n",
            " [-1.09058306e+00 -3.74554562e-01]\n",
            " [-2.12648508e-02  3.10544391e-02]\n",
            " [ 7.59458956e-02 -2.58666276e-01]\n",
            " [-1.57663679e+00 -1.24371671e+00]\n",
            " [-5.07318583e-01 -2.87638347e-01]\n",
            " [ 9.50842613e-01  1.17970654e-01]\n",
            " [ 1.92295008e+00 -1.35960499e+00]\n",
            " [ 1.43689635e+00  6.00265106e-02]\n",
            " [-6.04529329e-01  1.36376973e+00]\n",
            " [ 1.53410709e+00  2.08236764e-03]\n",
            " [-7.98950822e-01  2.91803083e-01]\n",
            " [ 1.92295008e+00  7.26384155e-01]\n",
            " [-1.18779381e+00 -5.19414919e-01]\n",
            " [ 6.59210374e-01  2.62831011e-01]\n",
            " [-1.38221530e+00 -4.32498705e-01]\n",
            " [ 1.73156642e-01  1.46942725e-01]\n",
            " [-5.07318583e-01 -1.21474464e+00]\n",
            " [ 5.61999628e-01  2.00115530e+00]\n",
            " [-1.57663679e+00 -1.50446535e+00]\n",
            " [-5.07318583e-01 -5.48386991e-01]\n",
            " [ 4.64788881e-01  1.82732287e+00]\n",
            " [-1.38221530e+00 -1.09885635e+00]\n",
            " [ 7.56421121e-01 -1.38857706e+00]\n",
            " [-3.12897090e-01 -4.32498705e-01]\n",
            " [ 1.53410709e+00  9.87132798e-01]\n",
            " [ 9.50842613e-01  1.42171387e+00]\n",
            " [-3.12897090e-01 -4.90442848e-01]\n",
            " [-1.18475597e-01  2.14601566e+00]\n",
            " [-1.47942605e+00 -1.13805918e-01]\n",
            " [-1.18475597e-01  1.94321116e+00]\n",
            " [-7.01740076e-01 -3.45582490e-01]\n",
            " [-5.07318583e-01 -8.38107706e-01]\n",
            " [ 6.59210374e-01 -1.38857706e+00]\n",
            " [-7.98950822e-01 -1.59138156e+00]\n",
            " [-1.86826903e+00 -1.47549328e+00]\n",
            " [ 1.04805336e+00  1.17970654e-01]\n",
            " [ 7.59458956e-02  1.50863009e+00]\n",
            " [-3.12897090e-01  8.89985821e-02]\n",
            " [ 7.59458956e-02  3.10544391e-02]\n",
            " [-1.38221530e+00 -1.35960499e+00]\n",
            " [ 2.70367388e-01  6.00265106e-02]\n",
            " [-8.96161568e-01  3.78719297e-01]\n",
            " [ 1.53410709e+00 -1.27268878e+00]\n",
            " [-3.12897090e-01 -7.51191491e-01]\n",
            " [-1.18475597e-01  1.46942725e-01]\n",
            " [-8.96161568e-01 -6.64275277e-01]\n",
            " [-7.01740076e-01 -5.58617754e-02]\n",
            " [ 3.67578135e-01 -4.61470776e-01]\n",
            " [-7.98950822e-01  1.88526701e+00]\n",
            " [ 1.33968560e+00  1.27685351e+00]\n",
            " [ 1.14526411e+00 -9.82968063e-01]\n",
            " [ 1.72852858e+00  1.82732287e+00]\n",
            " [-8.96161568e-01 -2.58666276e-01]\n",
            " [-7.98950822e-01  5.52551726e-01]\n",
            " [-1.18779381e+00 -1.56240949e+00]\n",
            " [-5.07318583e-01 -1.12782842e+00]\n",
            " [ 2.70367388e-01  6.00265106e-02]\n",
            " [-2.15686344e-01 -1.06988428e+00]\n",
            " [ 1.63131784e+00  1.59554630e+00]\n",
            " [ 9.50842613e-01  1.76937873e+00]\n",
            " [ 2.70367388e-01  3.10544391e-02]\n",
            " [-7.98950822e-01 -2.29694204e-01]\n",
            " [-1.18475597e-01  6.00265106e-02]\n",
            " [ 2.70367388e-01 -2.00722133e-01]\n",
            " [ 1.92295008e+00 -6.64275277e-01]\n",
            " [-7.98950822e-01  1.33479766e+00]\n",
            " [-1.77105829e+00 -6.06331134e-01]\n",
            " [-1.18475597e-01  1.17970654e-01]\n",
            " [ 2.70367388e-01 -3.16610419e-01]\n",
            " [ 1.04805336e+00  5.52551726e-01]\n",
            " [-9.93372315e-01  2.62831011e-01]\n",
            " [ 1.43689635e+00  3.49747226e-01]\n",
            " [ 1.73156642e-01 -3.74554562e-01]\n",
            " [ 2.11737157e+00 -1.04091221e+00]\n",
            " [-3.12897090e-01  1.10302108e+00]\n",
            " [-1.67384754e+00  6.00265106e-02]\n",
            " [-2.12648508e-02  3.10544391e-02]\n",
            " [ 7.59458956e-02  1.04507694e+00]\n",
            " [-1.18475597e-01 -3.74554562e-01]\n",
            " [-1.18779381e+00  6.00265106e-02]\n",
            " [-3.12897090e-01 -1.35960499e+00]\n",
            " [ 1.53410709e+00  1.10302108e+00]\n",
            " [-7.98950822e-01 -1.53343742e+00]\n",
            " [ 7.59458956e-02  1.85629494e+00]\n",
            " [-8.96161568e-01 -7.80163563e-01]\n",
            " [-5.07318583e-01 -7.80163563e-01]\n",
            " [-3.12897090e-01 -9.25023920e-01]\n",
            " [ 2.70367388e-01 -7.22219420e-01]\n",
            " [ 2.70367388e-01  6.00265106e-02]\n",
            " [ 7.59458956e-02  1.85629494e+00]\n",
            " [-1.09058306e+00  1.94321116e+00]\n",
            " [-1.67384754e+00 -1.56240949e+00]\n",
            " [-1.18779381e+00 -1.09885635e+00]\n",
            " [-7.01740076e-01 -1.13805918e-01]\n",
            " [ 7.59458956e-02  8.89985821e-02]\n",
            " [ 2.70367388e-01  2.62831011e-01]\n",
            " [ 8.53631867e-01 -5.77359062e-01]\n",
            " [ 2.70367388e-01 -1.15680049e+00]\n",
            " [-1.18475597e-01  6.68440012e-01]\n",
            " [ 2.11737157e+00 -6.93247348e-01]\n",
            " [-1.28500455e+00 -1.38857706e+00]\n",
            " [-9.93372315e-01 -9.53995992e-01]\n",
            " [-2.12648508e-02 -4.32498705e-01]\n",
            " [-2.15686344e-01 -4.61470776e-01]\n",
            " [-1.77105829e+00 -9.82968063e-01]\n",
            " [ 1.72852858e+00  9.87132798e-01]\n",
            " [ 1.73156642e-01 -3.74554562e-01]\n",
            " [ 3.67578135e-01  1.10302108e+00]\n",
            " [-1.77105829e+00 -1.35960499e+00]\n",
            " [ 1.73156642e-01 -1.42777990e-01]\n",
            " [ 8.53631867e-01 -1.44652121e+00]\n",
            " [-1.96547978e+00  4.65635512e-01]\n",
            " [-3.12897090e-01  2.62831011e-01]\n",
            " [ 1.82573933e+00 -1.06988428e+00]\n",
            " [-4.10107836e-01  6.00265106e-02]\n",
            " [ 1.04805336e+00 -8.96051849e-01]\n",
            " [-1.09058306e+00 -1.12782842e+00]\n",
            " [-1.86826903e+00  2.08236764e-03]\n",
            " [ 7.59458956e-02  2.62831011e-01]\n",
            " [-1.18779381e+00  3.20775154e-01]\n",
            " [-1.28500455e+00  2.91803083e-01]\n",
            " [-9.93372315e-01  4.36663440e-01]\n",
            " [ 1.63131784e+00 -8.96051849e-01]\n",
            " [ 1.14526411e+00  5.23579655e-01]\n",
            " [ 1.04805336e+00  5.23579655e-01]\n",
            " [ 1.33968560e+00  2.31984809e+00]\n",
            " [-3.12897090e-01 -1.42777990e-01]\n",
            " [ 3.67578135e-01 -4.61470776e-01]\n",
            " [-4.10107836e-01 -7.80163563e-01]\n",
            " [-1.18475597e-01 -5.19414919e-01]\n",
            " [ 9.50842613e-01 -1.15680049e+00]\n",
            " [-8.96161568e-01 -7.80163563e-01]\n",
            " [-2.15686344e-01 -5.19414919e-01]\n",
            " [-1.09058306e+00 -4.61470776e-01]\n",
            " [-1.18779381e+00  1.39274180e+00]]\n"
          ]
        }
      ]
    },
    {
      "cell_type": "code",
      "source": [
        "print(X_test)"
      ],
      "metadata": {
        "colab": {
          "base_uri": "https://localhost:8080/"
        },
        "id": "a9CyJ-3iVkMR",
        "outputId": "200d31bf-9919-47dd-aafe-b23bec51244a"
      },
      "execution_count": 40,
      "outputs": [
        {
          "output_type": "stream",
          "name": "stdout",
          "text": [
            "[[-0.49618606  0.56021375]\n",
            " [ 0.2389044  -0.59133674]\n",
            " [-0.03675452  0.18673792]\n",
            " [-0.49618606  0.31122986]\n",
            " [-0.03675452 -0.59133674]\n",
            " [-0.77184498 -1.52502632]\n",
            " [-0.40429975 -1.68064126]\n",
            " [ 0.05513178  2.33422397]\n",
            " [-1.59882175 -0.03112299]\n",
            " [ 1.06588117 -0.80919764]\n",
            " [-0.49618606 -0.62245972]\n",
            " [-0.67995868 -0.43572181]\n",
            " [ 0.14701809 -0.43572181]\n",
            " [ 0.33079071  0.24898389]\n",
            " [-1.41504914  0.52909077]\n",
            " [-0.31241345  1.49390334]\n",
            " [ 0.14701809  0.24898389]\n",
            " [-1.50693545  0.49796778]\n",
            " [ 1.80097163  1.89850216]\n",
            " [-0.03675452 -1.46278035]\n",
            " [-0.03675452 -0.6847057 ]\n",
            " [ 1.06588117  2.33422397]\n",
            " [ 0.51456332 -0.56021375]\n",
            " [ 1.06588117  1.1204275 ]\n",
            " [-1.13939022 -1.27604243]\n",
            " [ 1.24965379  2.24085501]\n",
            " [-0.67995868  0.56021375]\n",
            " [-0.58807237  0.34235285]\n",
            " [ 0.14701809 -0.2178609 ]\n",
            " [-0.31241345  0.52909077]\n",
            " [-1.32316283  0.59133674]\n",
            " [ 0.14701809  0.31122986]\n",
            " [ 1.98474425 -0.28010688]\n",
            " [ 0.14701809 -0.49796778]\n",
            " [-1.04750391 -0.34235285]\n",
            " [-1.59882175 -0.52909077]\n",
            " [-1.23127652  0.37347583]\n",
            " [-0.12864083 -0.80919764]\n",
            " [-0.40429975 -1.08930452]\n",
            " [ 1.24965379 -1.02705855]\n",
            " [-0.77184498  0.59133674]\n",
            " [ 0.51456332 -0.52909077]\n",
            " [-0.77184498  0.46684479]\n",
            " [-0.03675452 -1.52502632]\n",
            " [ 0.69833594  1.33828841]\n",
            " [-0.77184498 -0.34235285]\n",
            " [ 0.14701809  0.34235285]\n",
            " [ 1.52531271  0.65358271]\n",
            " [-0.86373129 -1.21379646]\n",
            " [ 1.24965379  0.52909077]\n",
            " [ 1.98474425  1.64951827]\n",
            " [-0.12864083 -1.36941139]\n",
            " [-0.03675452 -0.37347583]\n",
            " [-0.12864083  1.43165737]\n",
            " [ 2.16851686  0.59133674]\n",
            " [ 0.88210855 -1.15155049]\n",
            " [-0.58807237  0.43572181]\n",
            " [-0.86373129  0.34235285]\n",
            " [ 1.24965379 -1.27604243]\n",
            " [-1.13939022 -1.52502632]\n",
            " [-0.31241345 -1.5872723 ]\n",
            " [ 2.26040317 -0.84032063]\n",
            " [-1.50693545  0.2178609 ]\n",
            " [ 0.05513178  0.93368959]\n",
            " [-1.50693545 -1.33828841]\n",
            " [ 2.26040317  0.43572181]\n",
            " [-1.04750391  0.62245972]\n",
            " [-0.77184498 -0.34235285]\n",
            " [ 0.42267702 -0.6847057 ]\n",
            " [ 0.60644963  0.03112299]\n",
            " [-0.31241345  2.52096188]\n",
            " [-0.03675452  0.24898389]\n",
            " [-1.23127652 -0.18673792]\n",
            " [ 0.88210855 -1.46278035]\n",
            " [-0.77184498  0.62245972]\n",
            " [-1.59882175  0.40459882]\n",
            " [ 0.60644963  0.31122986]\n",
            " [ 0.42267702 -0.28010688]\n",
            " [ 1.61719902 -1.08930452]\n",
            " [ 1.06588117  1.18267348]]\n"
          ]
        }
      ]
    },
    {
      "cell_type": "markdown",
      "metadata": {
        "id": "bb6jCOCQiAmP"
      },
      "source": [
        "## Training the Logistic Regression model on the Training set"
      ]
    },
    {
      "cell_type": "code",
      "source": [
        "from sklearn.linear_model import LogisticRegression\n",
        "classifier = LogisticRegression()\n",
        "classifier.fit(X_train,y_train)"
      ],
      "metadata": {
        "colab": {
          "base_uri": "https://localhost:8080/"
        },
        "id": "nF5pevDxVr2J",
        "outputId": "34a64ceb-7d70-4257-9e5f-727f6f89c8fa"
      },
      "execution_count": 41,
      "outputs": [
        {
          "output_type": "execute_result",
          "data": {
            "text/plain": [
              "LogisticRegression()"
            ]
          },
          "metadata": {},
          "execution_count": 41
        }
      ]
    },
    {
      "cell_type": "markdown",
      "metadata": {
        "id": "yyxW5b395mR2"
      },
      "source": [
        "## Predicting a new result"
      ]
    },
    {
      "cell_type": "code",
      "source": [
        "print(classifier.predict(sc.transform([[30,87000]])))"
      ],
      "metadata": {
        "colab": {
          "base_uri": "https://localhost:8080/"
        },
        "id": "OJE3EaMTV7nD",
        "outputId": "8812b118-fd7e-48df-a802-3e9eb174e1e2"
      },
      "execution_count": 42,
      "outputs": [
        {
          "output_type": "stream",
          "name": "stdout",
          "text": [
            "[0]\n"
          ]
        }
      ]
    },
    {
      "cell_type": "markdown",
      "metadata": {
        "id": "vKYVQH-l5NpE"
      },
      "source": [
        "## Predicting the Test set results"
      ]
    },
    {
      "cell_type": "code",
      "source": [
        "y_pred = classifier.predict(X_test)\n",
        "print(np.concatenate((y_pred.reshape(len(y_pred),1), y_test.reshape(len(y_test),1)),1))"
      ],
      "metadata": {
        "colab": {
          "base_uri": "https://localhost:8080/"
        },
        "id": "AqIV_znOXSSa",
        "outputId": "2fef91fa-3f43-4012-bed7-f9224f2d997d"
      },
      "execution_count": 43,
      "outputs": [
        {
          "output_type": "stream",
          "name": "stdout",
          "text": [
            "[[0 0]\n",
            " [0 0]\n",
            " [0 0]\n",
            " [0 0]\n",
            " [0 0]\n",
            " [0 0]\n",
            " [0 0]\n",
            " [1 1]\n",
            " [0 0]\n",
            " [1 0]\n",
            " [0 0]\n",
            " [0 0]\n",
            " [0 0]\n",
            " [1 0]\n",
            " [0 0]\n",
            " [1 0]\n",
            " [0 0]\n",
            " [0 0]\n",
            " [1 1]\n",
            " [0 0]\n",
            " [0 0]\n",
            " [1 1]\n",
            " [0 0]\n",
            " [1 1]\n",
            " [0 0]\n",
            " [1 1]\n",
            " [0 0]\n",
            " [0 0]\n",
            " [0 0]\n",
            " [0 0]\n",
            " [0 0]\n",
            " [0 1]\n",
            " [1 1]\n",
            " [0 0]\n",
            " [0 0]\n",
            " [0 0]\n",
            " [0 0]\n",
            " [0 0]\n",
            " [0 0]\n",
            " [1 1]\n",
            " [0 0]\n",
            " [0 0]\n",
            " [0 0]\n",
            " [0 0]\n",
            " [1 1]\n",
            " [0 0]\n",
            " [0 0]\n",
            " [1 1]\n",
            " [0 0]\n",
            " [1 1]\n",
            " [1 1]\n",
            " [0 0]\n",
            " [0 0]\n",
            " [1 0]\n",
            " [1 1]\n",
            " [0 1]\n",
            " [0 0]\n",
            " [0 0]\n",
            " [1 1]\n",
            " [0 0]\n",
            " [0 0]\n",
            " [1 1]\n",
            " [0 0]\n",
            " [1 1]\n",
            " [0 0]\n",
            " [1 1]\n",
            " [0 0]\n",
            " [0 0]\n",
            " [0 0]\n",
            " [1 0]\n",
            " [1 1]\n",
            " [0 0]\n",
            " [0 0]\n",
            " [0 1]\n",
            " [0 0]\n",
            " [0 0]\n",
            " [1 0]\n",
            " [0 0]\n",
            " [1 1]\n",
            " [1 1]]\n"
          ]
        }
      ]
    },
    {
      "cell_type": "markdown",
      "metadata": {
        "id": "h4Hwj34ziWQW"
      },
      "source": [
        "## Making the Confusion Matrix"
      ]
    },
    {
      "cell_type": "code",
      "source": [
        "from sklearn.metrics import confusion_matrix,accuracy_score\n",
        "cm = confusion_matrix(y_test,y_pred)\n",
        "print(cm)\n",
        "accuracy_score(y_test, y_pred)"
      ],
      "metadata": {
        "colab": {
          "base_uri": "https://localhost:8080/"
        },
        "id": "VMjkXKDPYmCe",
        "outputId": "17e0adc2-5231-4c46-a2eb-5936dc608294"
      },
      "execution_count": 44,
      "outputs": [
        {
          "output_type": "stream",
          "name": "stdout",
          "text": [
            "[[52  6]\n",
            " [ 3 19]]\n"
          ]
        },
        {
          "output_type": "execute_result",
          "data": {
            "text/plain": [
              "0.8875"
            ]
          },
          "metadata": {},
          "execution_count": 44
        }
      ]
    },
    {
      "cell_type": "markdown",
      "metadata": {
        "id": "6OMC_P0diaoD"
      },
      "source": [
        "## Visualising the Training set results"
      ]
    },
    {
      "cell_type": "code",
      "source": [
        "from matplotlib.colors import ListedColormap\n",
        "X_set, y_set = sc.inverse_transform(X_train), y_train\n",
        "X1, X2 = np.meshgrid(np.arange(start = X_set[:, 0].min() - 10, stop = X_set[:, 0].max() + 10, step = 0.25),\n",
        "                     np.arange(start = X_set[:, 1].min() - 1000, stop = X_set[:, 1].max() + 1000, step = 0.25))\n",
        "plt.contourf(X1, X2, classifier.predict(sc.transform(np.array([X1.ravel(), X2.ravel()]).T)).reshape(X1.shape),\n",
        "             alpha = 0.75, cmap = ListedColormap(('red', 'green')))\n",
        "plt.xlim(X1.min(), X1.max())\n",
        "plt.ylim(X2.min(), X2.max())\n",
        "for i, j in enumerate(np.unique(y_set)):\n",
        "    plt.scatter(X_set[y_set == j, 0], X_set[y_set == j, 1], c = ListedColormap(('red', 'green'))(i), label = j)\n",
        "plt.title('Logistic Regression (Training set)')\n",
        "plt.xlabel('Age')\n",
        "plt.ylabel('Estimated Salary')\n",
        "plt.legend()\n",
        "plt.show()"
      ],
      "metadata": {
        "colab": {
          "base_uri": "https://localhost:8080/",
          "height": 350
        },
        "id": "yhEHfhD0awkQ",
        "outputId": "1626e9db-11c4-46fa-e006-fece5b9007ac"
      },
      "execution_count": 45,
      "outputs": [
        {
          "output_type": "stream",
          "name": "stderr",
          "text": [
            "*c* argument looks like a single numeric RGB or RGBA sequence, which should be avoided as value-mapping will have precedence in case its length matches with *x* & *y*.  Please use the *color* keyword-argument or provide a 2-D array with a single row if you intend to specify the same RGB or RGBA value for all points.\n",
            "*c* argument looks like a single numeric RGB or RGBA sequence, which should be avoided as value-mapping will have precedence in case its length matches with *x* & *y*.  Please use the *color* keyword-argument or provide a 2-D array with a single row if you intend to specify the same RGB or RGBA value for all points.\n"
          ]
        },
        {
          "output_type": "display_data",
          "data": {
            "image/png": "[encoded data removed]",
            "text/plain": [
              "<Figure size 432x288 with 1 Axes>"
            ]
          },
          "metadata": {
            "needs_background": "light"
          }
        }
      ]
    },
    {
      "cell_type": "markdown",
      "metadata": {
        "id": "SZ-j28aPihZx"
      },
      "source": [
        "## Visualising the Test set results"
      ]
    },
    {
      "cell_type": "code",
      "source": [
        "from matplotlib.colors import ListedColormap\n",
        "X_set, y_set = sc.inverse_transform(X_test), y_test\n",
        "X1, X2 = np.meshgrid(np.arange(start = X_set[:, 0].min() - 10, stop = X_set[:, 0].max() + 10, step = 0.25),\n",
        "                     np.arange(start = X_set[:, 1].min() - 1000, stop = X_set[:, 1].max() + 1000, step = 0.25))\n",
        "plt.contourf(X1, X2, classifier.predict(sc.transform(np.array([X1.ravel(), X2.ravel()]).T)).reshape(X1.shape),\n",
        "             alpha = 0.75, cmap = ListedColormap(('red', 'green')))\n",
        "plt.xlim(X1.min(), X1.max())\n",
        "plt.ylim(X2.min(), X2.max())\n",
        "for i, j in enumerate(np.unique(y_set)):\n",
        "    plt.scatter(X_set[y_set == j, 0], X_set[y_set == j, 1], c = ListedColormap(('red', 'green'))(i), label = j)\n",
        "plt.title('Logistic Regression (Test set)')\n",
        "plt.xlabel('Age')\n",
        "plt.ylabel('Estimated Salary')\n",
        "plt.legend()\n",
        "plt.show()"
      ],
      "metadata": {
        "colab": {
          "base_uri": "https://localhost:8080/",
          "height": 350
        },
        "id": "8Pg8zCuraytX",
        "outputId": "273ff4ec-0a67-461e-c72f-fabdae499465"
      },
      "execution_count": 46,
      "outputs": [
        {
          "output_type": "stream",
          "name": "stderr",
          "text": [
            "*c* argument looks like a single numeric RGB or RGBA sequence, which should be avoided as value-mapping will have precedence in case its length matches with *x* & *y*.  Please use the *color* keyword-argument or provide a 2-D array with a single row if you intend to specify the same RGB or RGBA value for all points.\n",
            "*c* argument looks like a single numeric RGB or RGBA sequence, which should be avoided as value-mapping will have precedence in case its length matches with *x* & *y*.  Please use the *color* keyword-argument or provide a 2-D array with a single row if you intend to specify the same RGB or RGBA value for all points.\n"
          ]
        },
        {
          "output_type": "display_data",
          "data": {
            "image/png": "[encoded data removed]",
            "text/plain": [
              "<Figure size 432x288 with 1 Axes>"
            ]
          },
          "metadata": {
            "needs_background": "light"
          }
        }
      ]
    }
  ]
}